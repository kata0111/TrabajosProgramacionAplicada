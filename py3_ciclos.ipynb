{
  "nbformat": 4,
  "nbformat_minor": 0,
  "metadata": {
    "colab": {
      "name": "py3-ciclos.ipynb",
      "provenance": [],
      "authorship_tag": "ABX9TyMpCH/vOvaWaZaDeM430Q10",
      "include_colab_link": true
    },
    "kernelspec": {
      "name": "python3",
      "display_name": "Python 3"
    },
    "language_info": {
      "name": "python"
    }
  },
  "cells": [
    {
      "cell_type": "markdown",
      "metadata": {
        "id": "view-in-github",
        "colab_type": "text"
      },
      "source": [
        "<a href=\"https://colab.research.google.com/github/kata0111/TrabajosProgramacionAplicada/blob/main/py3_ciclos.ipynb\" target=\"_parent\"><img src=\"https://colab.research.google.com/assets/colab-badge.svg\" alt=\"Open In Colab\"/></a>"
      ]
    },
    {
      "cell_type": "markdown",
      "metadata": {
        "id": "hZ43T-Q7ThhT"
      },
      "source": [
        "#EJERCICIOS SUMATORIA\n"
      ]
    },
    {
      "cell_type": "markdown",
      "metadata": {
        "id": "jr1pEB25TpHH"
      },
      "source": [
        "### 1. Asumiendo que 𝐴, 𝐵, 𝐶 son listas con 𝑛 datos, realice y pruebe una función que calcule la siguiente sumatoria (vale por una tarea del curso).\n",
        "![image.png](data:image/png;base64,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)\n"
      ]
    },
    {
      "cell_type": "code",
      "metadata": {
        "id": "7VxTv02EVJa4"
      },
      "source": [
        "def sumatoria_1(A,B,C):\n",
        " n=len(A)\n",
        " acum = 0\n",
        " for i in range(n):\n",
        "   d = A[i]*B[i]\n",
        "   e = d+C[i]\n",
        "   acum = acum + e \n",
        " total = acum + n**2\n",
        " return total"
      ],
      "execution_count": null,
      "outputs": []
    },
    {
      "cell_type": "code",
      "metadata": {
        "colab": {
          "base_uri": "https://localhost:8080/"
        },
        "id": "B7QYBnK9VeHN",
        "outputId": "4d8109a0-0d6a-48f1-9c1c-70fb30310f70"
      },
      "source": [
        "A=[1,2,3]\n",
        "B=[4,5,6]\n",
        "C=[5,7,9]\n",
        "sumatoria_1(A,B,C)"
      ],
      "execution_count": null,
      "outputs": [
        {
          "output_type": "execute_result",
          "data": {
            "text/plain": [
              "62"
            ]
          },
          "metadata": {},
          "execution_count": 17
        }
      ]
    },
    {
      "cell_type": "code",
      "metadata": {
        "colab": {
          "base_uri": "https://localhost:8080/"
        },
        "id": "QF2gRxGnW1Z0",
        "outputId": "4ef6ed00-2b28-48dd-f0f2-d902be20c801"
      },
      "source": [
        "(((4*1)+5)+((2*5)+7)+((3*6)+9))+(3**2)"
      ],
      "execution_count": null,
      "outputs": [
        {
          "output_type": "execute_result",
          "data": {
            "text/plain": [
              "62"
            ]
          },
          "metadata": {},
          "execution_count": 19
        }
      ]
    },
    {
      "cell_type": "markdown",
      "metadata": {
        "id": "wIjDOCTpX4Tu"
      },
      "source": [
        "### 2.  Asumiendo que 𝐴, 𝐵, son listas con 2𝑛 datos cada una, realice y pruebe una función que llene la lista 𝐶 con los siguientes 𝑛 datos (vale por una tarea del curso).\n",
        "![image.png](data:image/png;base64,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)\n",
        "### Es de resaltar que la lista 𝐶 tiene la mitad de los datos que cada una de las listas 𝐴,𝐵\n",
        "\n"
      ]
    },
    {
      "cell_type": "code",
      "metadata": {
        "id": "pi5bs28eYoNH"
      },
      "source": [
        "def lista_1(A,B):\n",
        " n=len(A)//2\n",
        " C=[]\n",
        " for i in range(n):\n",
        "   d=A[i+1]**2\n",
        "   e=d*B[2*i]\n",
        "   f=e+B[n+i]\n",
        "   C.append(f)\n",
        " return C"
      ],
      "execution_count": null,
      "outputs": []
    },
    {
      "cell_type": "code",
      "metadata": {
        "colab": {
          "base_uri": "https://localhost:8080/"
        },
        "id": "Onp74CuKbicX",
        "outputId": "de781dad-c810-4284-c6fd-96669915e206"
      },
      "source": [
        "A=[1,3,5,7]\n",
        "B=[2,4,6,8]\n",
        "lista_1(A,B)"
      ],
      "execution_count": null,
      "outputs": [
        {
          "output_type": "execute_result",
          "data": {
            "text/plain": [
              "[24, 158]"
            ]
          },
          "metadata": {},
          "execution_count": 26
        }
      ]
    },
    {
      "cell_type": "code",
      "metadata": {
        "colab": {
          "base_uri": "https://localhost:8080/"
        },
        "id": "KKq8EPrhcBwx",
        "outputId": "8345e6a4-8e8d-44dc-9fc9-870f4c80d9b1"
      },
      "source": [
        "[(9*2)+6,(25*6)+8]"
      ],
      "execution_count": null,
      "outputs": [
        {
          "output_type": "execute_result",
          "data": {
            "text/plain": [
              "[24, 158]"
            ]
          },
          "metadata": {},
          "execution_count": 27
        }
      ]
    }
  ]
}