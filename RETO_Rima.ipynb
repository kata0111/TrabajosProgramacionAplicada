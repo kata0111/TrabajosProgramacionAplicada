{
  "nbformat": 4,
  "nbformat_minor": 0,
  "metadata": {
    "colab": {
      "name": "RETO: Rima",
      "provenance": [],
      "authorship_tag": "ABX9TyNi0xgaYCy3okcjCG5RsGfZ",
      "include_colab_link": true
    },
    "kernelspec": {
      "name": "python3",
      "display_name": "Python 3"
    },
    "language_info": {
      "name": "python"
    }
  },
  "cells": [
    {
      "cell_type": "markdown",
      "metadata": {
        "id": "view-in-github",
        "colab_type": "text"
      },
      "source": [
        "<a href=\"https://colab.research.google.com/github/kata0111/TrabajosProgramacionAplicada/blob/main/RETO_Rima.ipynb\" target=\"_parent\"><img src=\"https://colab.research.google.com/assets/colab-badge.svg\" alt=\"Open In Colab\"/></a>"
      ]
    },
    {
      "cell_type": "markdown",
      "metadata": {
        "id": "o9sVC7aEhA1F"
      },
      "source": [
        "# RETO: RIMA\n",
        "## Realice una función rima que encuentre las palabras que finalizan según el parámetro.\n",
        "\n"
      ]
    },
    {
      "cell_type": "code",
      "metadata": {
        "id": "viBX8XJ2hDqa"
      },
      "source": [
        "documento  = open('palabras500.csv', encoding=\"utf-8\")\n",
        "lista = documento.readlines()\n",
        "documento.close()\n",
        "\n",
        "rimas = input(\"Escriba la rima con la que quiere buscar las palabras: \")\n",
        "for x in lista:\n",
        "  if (rima) in x:\n",
        "    print (x)"
      ],
      "execution_count": null,
      "outputs": []
    }
  ]
}