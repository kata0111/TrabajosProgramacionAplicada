{
  "nbformat": 4,
  "nbformat_minor": 0,
  "metadata": {
    "colab": {
      "name": "Retos en Python",
      "provenance": [],
      "authorship_tag": "ABX9TyNxKq7mhU7sgNX1KX2/Ji/5",
      "include_colab_link": true
    },
    "kernelspec": {
      "name": "python3",
      "display_name": "Python 3"
    },
    "language_info": {
      "name": "python"
    }
  },
  "cells": [
    {
      "cell_type": "markdown",
      "metadata": {
        "id": "view-in-github",
        "colab_type": "text"
      },
      "source": [
        "<a href=\"https://colab.research.google.com/github/kata0111/TrabajosProgramacionAplicada/blob/main/Retos.ipynb\" target=\"_parent\"><img src=\"https://colab.research.google.com/assets/colab-badge.svg\" alt=\"Open In Colab\"/></a>"
      ]
    },
    {
      "cell_type": "code",
      "execution_count": 22,
      "metadata": {
        "colab": {
          "base_uri": "https://localhost:8080/"
        },
        "id": "qd-4f57FLKfl",
        "outputId": "b6616770-050b-40ba-899f-c79c99475137"
      },
      "outputs": [
        {
          "output_type": "stream",
          "name": "stdout",
          "text": [
            "Numero elegido: 63\n",
            "Este numero se encuentra entre 50 y 100\n"
          ]
        }
      ],
      "source": [
        "#reto 6: Generar un número aleatorio entre 1 y 120. Decir si se encuentra en el intervalo entre 10 y 50,\n",
        "#o bien si es mayor de 50 hasta 100, o bien si es mayor de 100, o bien si es menor de 10.\n",
        "\n",
        "import random\n",
        "x = random.randrange(121)\n",
        "print('Numero elegido:', x)\n",
        "if x<10:\n",
        "  print ('Este numero es menor a 10') \n",
        "else:\n",
        "  if 10<x<50:\n",
        "    print ('Este numero se encuentra entre 10 y 50')\n",
        "  else: \n",
        "    if 50<x<100:\n",
        "      print ('Este numero se encuentra entre 50 y 100')\n",
        "    else: \n",
        "      if x>100:\n",
        "        print ('Este numero es mayor a 100')\n"
      ]
    },
    {
      "cell_type": "code",
      "source": [
        "#reto 8: Listar los números pares del 10 al 20.\n",
        "lista = [x for x in range(10,21) if x%2==0]\n",
        "print (lista)\n",
        "\n"
      ],
      "metadata": {
        "colab": {
          "base_uri": "https://localhost:8080/"
        },
        "id": "5gPZOR6pLREm",
        "outputId": "9001ed43-6e12-417f-b4c2-24589bbee3c9"
      },
      "execution_count": 33,
      "outputs": [
        {
          "output_type": "stream",
          "name": "stdout",
          "text": [
            "[10, 12, 14, 16, 18, 20]\n"
          ]
        }
      ]
    },
    {
      "cell_type": "code",
      "source": [
        "#reto 9: Listar los números entre un valor inicial y uno final, con un cierto intervalo. \n",
        "# Al final dar la suma de todos los valores listados.\n",
        "\n",
        "inicio = int(input('Ingrese valor inicial:  '))\n",
        "fin= int (input('Ingrese valor final:  '))\n",
        "intervalo = int(input('Ingrese intervalo:  '))\n",
        "suma = 0\n",
        "for i in range(inicio,fin,intervalo):\n",
        "  suma+=i\n",
        "  print(i)\n",
        "print('La suma es: ',suma)\n",
        "\n"
      ],
      "metadata": {
        "colab": {
          "base_uri": "https://localhost:8080/"
        },
        "id": "7Kaipv7GLRKH",
        "outputId": "07e1f5a5-741f-49b8-e721-292317c4005e"
      },
      "execution_count": 54,
      "outputs": [
        {
          "output_type": "stream",
          "name": "stdout",
          "text": [
            "Ingrese valor inicial:  2\n",
            "Ingrese valor final:  10\n",
            "Ingrese intervalo:  2\n",
            "2\n",
            "4\n",
            "6\n",
            "8\n",
            "La suma es:  20\n"
          ]
        }
      ]
    },
    {
      "cell_type": "code",
      "source": [
        "#reto 15: Calcular la media de dos números.\n",
        "\n",
        "a = int(input('Ingrese primer numero:  '))\n",
        "b = int(input('Ingrese segundo numero:  \\n'))\n",
        "media = (a+b)//2\n",
        "print ('La media entre',a, 'y' ,b, 'es', media)\n"
      ],
      "metadata": {
        "colab": {
          "base_uri": "https://localhost:8080/"
        },
        "id": "_wS4fdm4LRPN",
        "outputId": "bbd64734-5fac-458f-c2b6-cc451a806be2"
      },
      "execution_count": 61,
      "outputs": [
        {
          "output_type": "stream",
          "name": "stdout",
          "text": [
            "Ingrese primer numero:  4\n",
            "Ingrese segundo numero:  \n",
            "8\n",
            "La media entre 4 y 8 es media\n"
          ]
        }
      ]
    },
    {
      "cell_type": "code",
      "source": [
        "#reto 20: Crear una función que dado un año diga si es bisiesto.\n",
        "\n",
        "año = int(input('Ingrese el año que quiere probar: '))\n",
        "\n",
        "if año%4==0:\n",
        "  print ('Este año es bisiesto')\n",
        "else: \n",
        "  print ('Este año no es bisiesto')"
      ],
      "metadata": {
        "colab": {
          "base_uri": "https://localhost:8080/"
        },
        "id": "vGbO9kIMLRTz",
        "outputId": "3c97aea3-c6e3-4a67-cdf5-e2544cf6320f"
      },
      "execution_count": 63,
      "outputs": [
        {
          "output_type": "stream",
          "name": "stdout",
          "text": [
            "Ingrese el año que quiere probar: 2001\n",
            "Este año no es bisiesto\n"
          ]
        }
      ]
    }
  ]
}